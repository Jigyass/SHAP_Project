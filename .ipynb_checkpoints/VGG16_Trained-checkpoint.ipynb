{
 "cells": [
  {
   "cell_type": "code",
   "execution_count": 1,
   "id": "ec5e499f-cb1a-4470-af11-e22736d7aa49",
   "metadata": {},
   "outputs": [],
   "source": [
    "projDir='/home/darksst/Desktop/SHAP_Project'"
   ]
  },
  {
   "cell_type": "code",
   "execution_count": 8,
   "id": "e32ccf1f-a0ec-41a4-b94a-19ea48ca2de2",
   "metadata": {},
   "outputs": [
    {
     "name": "stdout",
     "output_type": "stream",
     "text": [
      "Found 80000 images belonging to 200 classes.\n",
      "Found 20000 images belonging to 200 classes.\n",
      "Training samples: 80000\n",
      "Validation samples: 20000\n"
     ]
    }
   ],
   "source": [
    "import os\n",
    "from keras.preprocessing.image import ImageDataGenerator\n",
    "from sklearn.model_selection import train_test_split\n",
    "\n",
    "# Path to your dataset\n",
    "data_dir = \"/home/darksst/Desktop/SHAP_Project/Data/tiny-imagenet-200/train\"\n",
    "\n",
    "# Create an ImageDataGenerator instance\n",
    "datagen = ImageDataGenerator(rescale=1.0/255.0, validation_split=0.2)\n",
    "\n",
    "# Training data generator\n",
    "train_generator = datagen.flow_from_directory(\n",
    "    directory=data_dir,\n",
    "    target_size=(224, 224),\n",
    "    batch_size=32,\n",
    "    class_mode='categorical',\n",
    "    subset='training'  # Set as training data\n",
    ")\n",
    "\n",
    "# Validation data generator\n",
    "validation_generator = datagen.flow_from_directory(\n",
    "    directory=data_dir,\n",
    "    target_size=(224, 224),\n",
    "    batch_size=32,\n",
    "    class_mode='categorical',\n",
    "    subset='validation'  # Set as validation data\n",
    ")\n",
    "\n",
    "# Display number of images found in each subset\n",
    "print(f'Training samples: {len(train_generator.filenames)}')\n",
    "print(f'Validation samples: {len(validation_generator.filenames)}')"
   ]
  },
  {
   "cell_type": "code",
   "execution_count": 14,
   "id": "1be37c63-7ab5-497f-a91c-ade90bf09a23",
   "metadata": {},
   "outputs": [
    {
     "name": "stdout",
     "output_type": "stream",
     "text": [
      "Model: \"sequential_4\"\n",
      "_________________________________________________________________\n",
      " Layer (type)                Output Shape              Param #   \n",
      "=================================================================\n",
      " vgg16 (Functional)          (None, 7, 7, 512)         14714688  \n",
      "                                                                 \n",
      " flatten_4 (Flatten)         (None, 25088)             0         \n",
      "                                                                 \n",
      " dense_14 (Dense)            (None, 4096)              102764544 \n",
      "                                                                 \n",
      " dense_15 (Dense)            (None, 4096)              16781312  \n",
      "                                                                 \n",
      " dense_17 (Dense)            (None, 200)               819400    \n",
      "                                                                 \n",
      "=================================================================\n",
      "Total params: 135079944 (515.29 MB)\n",
      "Trainable params: 120365256 (459.16 MB)\n",
      "Non-trainable params: 14714688 (56.13 MB)\n",
      "_________________________________________________________________\n"
     ]
    }
   ],
   "source": [
    "import keras\n",
    "from keras.models import Sequential\n",
    "from keras.layers import Dense, Flatten\n",
    "from keras.preprocessing.image import ImageDataGenerator\n",
    "from keras.optimizers import Adam\n",
    "from keras.applications import VGG16\n",
    "from keras.applications.vgg16 import preprocess_input\n",
    "\n",
    "# Load the VGG16 model pre-trained on ImageNet\n",
    "base_model = VGG16(weights='imagenet', include_top=False, input_shape=(224, 224, 3))\n",
    "\n",
    "# Freeze the base model\n",
    "for layer in base_model.layers:\n",
    "    layer.trainable = False\n",
    "\n",
    "# Add custom layers on top of the base model\n",
    "model = Sequential([\n",
    "    base_model,\n",
    "    Flatten(),\n",
    "    Dense(4096, activation='relu'),\n",
    "    Dense(4096, activation='relu'),\n",
    "    Dense(1, activation='softmax')  # Temporary placeholder for the final layer\n",
    "])\n",
    "\n",
    "# Get the number of classes\n",
    "num_classes = train_generator.num_classes\n",
    "\n",
    "# Adjust the final Dense layer to match the number of classes\n",
    "model.pop()  # Remove the temporary placeholder layer\n",
    "model.add(Dense(units=num_classes, activation=\"softmax\"))\n",
    "\n",
    "# Compile the model\n",
    "opt = Adam(learning_rate=0.001)\n",
    "model.compile(optimizer=opt, loss=keras.losses.categorical_crossentropy, metrics=['accuracy'])\n",
    "\n",
    "# Summary of the model\n",
    "model.summary()\n"
   ]
  },
  {
   "cell_type": "code",
   "execution_count": 15,
   "id": "b142364a-0837-4cf6-a0ef-fa0f9e385fdf",
   "metadata": {},
   "outputs": [
    {
     "name": "stdout",
     "output_type": "stream",
     "text": [
      "Epoch 1/10\n",
      "2500/2500 [==============================] - 160s 64ms/step - loss: 5.0194 - accuracy: 0.0142 - val_loss: 4.6753 - val_accuracy: 0.0278\n",
      "Epoch 2/10\n",
      "2500/2500 [==============================] - 165s 66ms/step - loss: 4.5512 - accuracy: 0.0336 - val_loss: 4.4847 - val_accuracy: 0.0395\n",
      "Epoch 3/10\n",
      "2500/2500 [==============================] - 174s 69ms/step - loss: 4.4497 - accuracy: 0.0386 - val_loss: 4.4736 - val_accuracy: 0.0382\n",
      "Epoch 4/10\n",
      "2500/2500 [==============================] - 175s 70ms/step - loss: 4.4068 - accuracy: 0.0400 - val_loss: 4.4516 - val_accuracy: 0.0399\n",
      "Epoch 5/10\n",
      "2500/2500 [==============================] - 168s 67ms/step - loss: 4.3765 - accuracy: 0.0430 - val_loss: 4.4647 - val_accuracy: 0.0407\n",
      "Epoch 6/10\n",
      "2500/2500 [==============================] - 155s 62ms/step - loss: 4.3604 - accuracy: 0.0449 - val_loss: 4.4692 - val_accuracy: 0.0419\n",
      "Epoch 7/10\n",
      "2500/2500 [==============================] - 155s 62ms/step - loss: 4.3358 - accuracy: 0.0459 - val_loss: 4.4548 - val_accuracy: 0.0399\n",
      "Epoch 8/10\n",
      "2500/2500 [==============================] - 155s 62ms/step - loss: 4.3178 - accuracy: 0.0478 - val_loss: 4.4624 - val_accuracy: 0.0382\n",
      "Epoch 9/10\n",
      "2500/2500 [==============================] - 156s 62ms/step - loss: 4.3038 - accuracy: 0.0484 - val_loss: 4.5008 - val_accuracy: 0.0408\n",
      "Epoch 10/10\n",
      "2500/2500 [==============================] - 155s 62ms/step - loss: 4.2915 - accuracy: 0.0489 - val_loss: 4.4734 - val_accuracy: 0.0435\n",
      "625/625 [==============================] - 26s 42ms/step - loss: 4.4734 - accuracy: 0.0435\n",
      "Validation loss: 4.473363399505615\n",
      "Validation accuracy: 0.0434500016272068\n"
     ]
    }
   ],
   "source": [
    "# Train the model\n",
    "history = model.fit(\n",
    "    train_generator,\n",
    "    steps_per_epoch=train_generator.samples // train_generator.batch_size,\n",
    "    validation_data=validation_generator,\n",
    "    validation_steps=validation_generator.samples // validation_generator.batch_size,\n",
    "    epochs=10  # Set the number of epochs\n",
    ")\n",
    "\n",
    "# Evaluate the model\n",
    "scores = model.evaluate(validation_generator)\n",
    "print(f'Validation loss: {scores[0]}')\n",
    "print(f'Validation accuracy: {scores[1]}')"
   ]
  },
  {
   "cell_type": "code",
   "execution_count": 16,
   "id": "5800e1e3-ede2-4831-8a6e-4c3535ea2464",
   "metadata": {},
   "outputs": [],
   "source": [
    "model.save('/home/darksst/Desktop/VGG.keras')"
   ]
  },
  {
   "cell_type": "code",
   "execution_count": null,
   "id": "97e9dc3f-3f5f-41b0-bbdb-5843e848e2ef",
   "metadata": {},
   "outputs": [],
   "source": []
  }
 ],
 "metadata": {
  "kernelspec": {
   "display_name": "Python 3 (ipykernel)",
   "language": "python",
   "name": "python3"
  },
  "language_info": {
   "codemirror_mode": {
    "name": "ipython",
    "version": 3
   },
   "file_extension": ".py",
   "mimetype": "text/x-python",
   "name": "python",
   "nbconvert_exporter": "python",
   "pygments_lexer": "ipython3",
   "version": "3.10.12"
  }
 },
 "nbformat": 4,
 "nbformat_minor": 5
}
